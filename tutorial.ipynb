{
 "cells": [
  {
   "cell_type": "markdown",
   "metadata": {},
   "source": [
    "The format is the one from D-Wave hybrid. D-Wave hybrid tutorial: https://github.com/dwave-examples/hybrid-computing-notebook"
   ]
  },
  {
   "cell_type": "code",
   "execution_count": 1,
   "metadata": {},
   "outputs": [],
   "source": [
    "import numpy\n",
    "from freeze_and_anneal import FreezeAnnealDecomposer\n",
    "from instance_generator import er_generator\n",
    "import hybrid\n",
    "import dwave.system"
   ]
  },
  {
   "cell_type": "code",
   "execution_count": 2,
   "metadata": {},
   "outputs": [],
   "source": [
    "api_token = "
   ]
  },
  {
   "cell_type": "markdown",
   "metadata": {},
   "source": [
    "Generate random instance:"
   ]
  },
  {
   "cell_type": "code",
   "execution_count": 3,
   "metadata": {},
   "outputs": [],
   "source": [
    "n = 200\n",
    "p = 0.5\n",
    "\n",
    "bqm = er_generator(n,p)"
   ]
  },
  {
   "cell_type": "markdown",
   "metadata": {},
   "source": [
    "Initialize the State in terms of D-Wave hybrid:"
   ]
  },
  {
   "cell_type": "code",
   "execution_count": 4,
   "metadata": {},
   "outputs": [],
   "source": [
    "initial_state = hybrid.State.from_problem(bqm)"
   ]
  },
  {
   "cell_type": "markdown",
   "metadata": {},
   "source": [
    "Define the solver workflow:"
   ]
  },
  {
   "cell_type": "code",
   "execution_count": 5,
   "metadata": {},
   "outputs": [],
   "source": [
    "FA_decomposer = FreezeAnnealDecomposer(size=150, num_generations=10, sol_per_pop=20, num_parents_mating=10)   \n",
    "    # size: numero de variables que queremos que tenga el subproblema. 150 está bien porque es posible embeber grafos completos de hasta 150 nodos en Pegasus.\n",
    "    # num_generations: generaciones de las que se compone el algoritmo genético que es llamado en cada iteración.\n",
    "    # sol_per_pop: número de soluciones al problema en la población.\n",
    "    # num_parents_mating: número de parents seleccionados para el crossover.\n",
    "\n",
    "workflow = FA_decomposer | hybrid.QPUSubproblemAutoEmbeddingSampler(num_reads=1000, qpu_sampler=dwave.system.samplers.DWaveSampler(token=api_token)) | hybrid.SplatComposer()"
   ]
  },
  {
   "cell_type": "markdown",
   "metadata": {},
   "source": [
    "Solve:"
   ]
  },
  {
   "cell_type": "code",
   "execution_count": 6,
   "metadata": {},
   "outputs": [
    {
     "name": "stdout",
     "output_type": "stream",
     "text": [
      "Best found energy by the GA at current iteration: -106.91584261594541\n",
      "Best found energy by the GA at current iteration: -101.71865500814977\n",
      "Best found energy by the GA at current iteration: -82.98375444348382\n",
      "Best found energy by the GA at current iteration: -100.57426489120753\n",
      "Best found energy by the GA at current iteration: -99.6842637383855\n",
      "Best found energy by the GA at current iteration: -130.1978133893345\n",
      "Best found energy by the GA at current iteration: -109.40358097883522\n",
      "Best found energy by the GA at current iteration: -87.70312313422974\n",
      "Best found energy by the GA at current iteration: -121.09651079837687\n",
      "Best found energy by the GA at current iteration: -96.02748537077274\n",
      "Best found energy by the GA at current iteration: -147.91846320944248\n",
      "Best found energy by the GA at current iteration: -135.35987080075137\n",
      "Best found energy by the GA at current iteration: -65.90087650736054\n",
      "Best found energy by the GA at current iteration: -96.57593920776797\n",
      "Best found energy by the GA at current iteration: -118.37273276624408\n",
      "Best found energy by the GA at current iteration: -102.17402025155195\n",
      "Best found energy by the GA at current iteration: -119.43752145208931\n",
      "Best found energy by the GA at current iteration: -98.88844687838332\n",
      "Best found energy by the GA at current iteration: -99.7317450139448\n",
      "Best found energy by the GA at current iteration: -116.35076790210735\n",
      "Best found energy by the GA at current iteration: -101.92634258649626\n",
      "Best found energy by the GA at current iteration: -84.25440324173192\n",
      "Best found energy by the GA at current iteration: -118.20279994901573\n",
      "Best found energy by the GA at current iteration: -84.68762659786472\n",
      "Best found energy by the GA at current iteration: -132.10327803004415\n",
      "Best found energy by the GA at current iteration: -127.80026046365386\n",
      "Best found energy by the GA at current iteration: -122.54359700995289\n",
      "Best found energy by the GA at current iteration: -95.73333612066133\n",
      "Best found energy by the GA at current iteration: -113.75897259922914\n",
      "Best found energy by the GA at current iteration: -123.91681596416315\n",
      "Best found energy by the GA at current iteration: -123.34349349596212\n",
      "Best found energy by the GA at current iteration: -108.17165694307185\n",
      "Best found energy by the GA at current iteration: -120.68221080384939\n",
      "Best found energy by the GA at current iteration: -117.43647200008348\n",
      "Best found energy by the GA at current iteration: -106.57688501594792\n",
      "Best found energy by the GA at current iteration: -100.43151474559431\n",
      "Best found energy by the GA at current iteration: -123.16285325306089\n",
      "Best found energy by the GA at current iteration: -107.08603385731755\n",
      "Best found energy by the GA at current iteration: -108.9095936518815\n",
      "Best found energy by the GA at current iteration: -81.41955893330704\n",
      "Best found energy by the GA at current iteration: -105.15079667215105\n",
      "Best found energy by the GA at current iteration: -139.9485817479005\n",
      "Best found energy by the GA at current iteration: -105.74467401971945\n",
      "Best found energy by the GA at current iteration: -145.56127536166457\n",
      "Best found energy by the GA at current iteration: -103.7119368296634\n",
      "Best found energy by the GA at current iteration: -117.21922120946758\n",
      "Best found energy by the GA at current iteration: -116.89524686233632\n",
      "Best found energy by the GA at current iteration: -110.61967850369327\n",
      "Best found energy by the GA at current iteration: -116.86377023955228\n",
      "Best found energy by the GA at current iteration: -135.05262355313187\n",
      "Final solution energy: -261.898912448057\n"
     ]
    }
   ],
   "source": [
    "output_state = workflow.run(initial_state).result()\n",
    "\n",
    "\n",
    "print(\"Final solution energy: {}\".format(output_state.samples.first.energy))"
   ]
  }
 ],
 "metadata": {
  "kernelspec": {
   "display_name": "venv",
   "language": "python",
   "name": "python3"
  },
  "language_info": {
   "codemirror_mode": {
    "name": "ipython",
    "version": 3
   },
   "file_extension": ".py",
   "mimetype": "text/x-python",
   "name": "python",
   "nbconvert_exporter": "python",
   "pygments_lexer": "ipython3",
   "version": "3.11.9"
  }
 },
 "nbformat": 4,
 "nbformat_minor": 2
}
